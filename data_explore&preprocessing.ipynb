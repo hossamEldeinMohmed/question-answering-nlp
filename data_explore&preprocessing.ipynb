{
 "cells": [
  {
   "cell_type": "code",
   "execution_count": 1,
   "metadata": {},
   "outputs": [],
   "source": [
    "import json\n",
    "import numpy as np\n",
    "import pandas as pd\n",
    "import re\n",
    "import unicodedata\n",
    "import string"
   ]
  },
  {
   "cell_type": "code",
   "execution_count": 2,
   "metadata": {},
   "outputs": [],
   "source": [
    "file = json.loads(open(\"dev-v2.0.json\").read())"
   ]
  },
  {
   "cell_type": "code",
   "execution_count": 5,
   "metadata": {},
   "outputs": [
    {
     "data": {
      "text/html": [
       "<div>\n",
       "<style scoped>\n",
       "    .dataframe tbody tr th:only-of-type {\n",
       "        vertical-align: middle;\n",
       "    }\n",
       "\n",
       "    .dataframe tbody tr th {\n",
       "        vertical-align: top;\n",
       "    }\n",
       "\n",
       "    .dataframe thead th {\n",
       "        text-align: right;\n",
       "    }\n",
       "</style>\n",
       "<table border=\"1\" class=\"dataframe\">\n",
       "  <thead>\n",
       "    <tr style=\"text-align: right;\">\n",
       "      <th></th>\n",
       "      <th>qas</th>\n",
       "      <th>context</th>\n",
       "    </tr>\n",
       "  </thead>\n",
       "  <tbody>\n",
       "    <tr>\n",
       "      <th>0</th>\n",
       "      <td>[{'question': 'In what country is Normandy loc...</td>\n",
       "      <td>The Normans (Norman: Nourmands; French: Norman...</td>\n",
       "    </tr>\n",
       "    <tr>\n",
       "      <th>1</th>\n",
       "      <td>[{'question': 'Who was the duke in the battle ...</td>\n",
       "      <td>The Norman dynasty had a major political, cult...</td>\n",
       "    </tr>\n",
       "    <tr>\n",
       "      <th>2</th>\n",
       "      <td>[{'question': 'What is the original meaning of...</td>\n",
       "      <td>The English name \"Normans\" comes from the Fren...</td>\n",
       "    </tr>\n",
       "    <tr>\n",
       "      <th>3</th>\n",
       "      <td>[{'question': 'When was the Duchy of Normandy ...</td>\n",
       "      <td>In the course of the 10th century, the initial...</td>\n",
       "    </tr>\n",
       "    <tr>\n",
       "      <th>4</th>\n",
       "      <td>[{'question': 'Who upon arriving gave the orig...</td>\n",
       "      <td>Before Rollo's arrival, its populations did no...</td>\n",
       "    </tr>\n",
       "    <tr>\n",
       "      <th>...</th>\n",
       "      <td>...</td>\n",
       "      <td>...</td>\n",
       "    </tr>\n",
       "    <tr>\n",
       "      <th>1199</th>\n",
       "      <td>[{'question': 'Where does centripetal force go...</td>\n",
       "      <td>where  is the mass of the object,  is the velo...</td>\n",
       "    </tr>\n",
       "    <tr>\n",
       "      <th>1200</th>\n",
       "      <td>[{'question': 'What is the only form potential...</td>\n",
       "      <td>A conservative force that acts on a closed sys...</td>\n",
       "    </tr>\n",
       "    <tr>\n",
       "      <th>1201</th>\n",
       "      <td>[{'question': 'What is sometimes impossible to...</td>\n",
       "      <td>For certain physical scenarios, it is impossib...</td>\n",
       "    </tr>\n",
       "    <tr>\n",
       "      <th>1202</th>\n",
       "      <td>[{'question': 'In what treatment are nonconser...</td>\n",
       "      <td>The connection between macroscopic nonconserva...</td>\n",
       "    </tr>\n",
       "    <tr>\n",
       "      <th>1203</th>\n",
       "      <td>[{'question': 'What is the metric term less us...</td>\n",
       "      <td>The pound-force has a metric counterpart, less...</td>\n",
       "    </tr>\n",
       "  </tbody>\n",
       "</table>\n",
       "<p>1204 rows × 2 columns</p>\n",
       "</div>"
      ],
      "text/plain": [
       "                                                    qas  \\\n",
       "0     [{'question': 'In what country is Normandy loc...   \n",
       "1     [{'question': 'Who was the duke in the battle ...   \n",
       "2     [{'question': 'What is the original meaning of...   \n",
       "3     [{'question': 'When was the Duchy of Normandy ...   \n",
       "4     [{'question': 'Who upon arriving gave the orig...   \n",
       "...                                                 ...   \n",
       "1199  [{'question': 'Where does centripetal force go...   \n",
       "1200  [{'question': 'What is the only form potential...   \n",
       "1201  [{'question': 'What is sometimes impossible to...   \n",
       "1202  [{'question': 'In what treatment are nonconser...   \n",
       "1203  [{'question': 'What is the metric term less us...   \n",
       "\n",
       "                                                context  \n",
       "0     The Normans (Norman: Nourmands; French: Norman...  \n",
       "1     The Norman dynasty had a major political, cult...  \n",
       "2     The English name \"Normans\" comes from the Fren...  \n",
       "3     In the course of the 10th century, the initial...  \n",
       "4     Before Rollo's arrival, its populations did no...  \n",
       "...                                                 ...  \n",
       "1199  where  is the mass of the object,  is the velo...  \n",
       "1200  A conservative force that acts on a closed sys...  \n",
       "1201  For certain physical scenarios, it is impossib...  \n",
       "1202  The connection between macroscopic nonconserva...  \n",
       "1203  The pound-force has a metric counterpart, less...  \n",
       "\n",
       "[1204 rows x 2 columns]"
      ]
     },
     "execution_count": 5,
     "metadata": {},
     "output_type": "execute_result"
    }
   ],
   "source": [
    "pd.json_normalize(file,['data','paragraphs'])"
   ]
  },
  {
   "cell_type": "code",
   "execution_count": 6,
   "metadata": {},
   "outputs": [
    {
     "data": {
      "text/plain": [
       "[{'question': 'In what country is Normandy located?',\n",
       "  'id': '56ddde6b9a695914005b9628',\n",
       "  'answers': [{'text': 'France', 'answer_start': 159},\n",
       "   {'text': 'France', 'answer_start': 159},\n",
       "   {'text': 'France', 'answer_start': 159},\n",
       "   {'text': 'France', 'answer_start': 159}],\n",
       "  'is_impossible': False},\n",
       " {'question': 'When were the Normans in Normandy?',\n",
       "  'id': '56ddde6b9a695914005b9629',\n",
       "  'answers': [{'text': '10th and 11th centuries', 'answer_start': 94},\n",
       "   {'text': 'in the 10th and 11th centuries', 'answer_start': 87},\n",
       "   {'text': '10th and 11th centuries', 'answer_start': 94},\n",
       "   {'text': '10th and 11th centuries', 'answer_start': 94}],\n",
       "  'is_impossible': False},\n",
       " {'question': 'From which countries did the Norse originate?',\n",
       "  'id': '56ddde6b9a695914005b962a',\n",
       "  'answers': [{'text': 'Denmark, Iceland and Norway', 'answer_start': 256},\n",
       "   {'text': 'Denmark, Iceland and Norway', 'answer_start': 256},\n",
       "   {'text': 'Denmark, Iceland and Norway', 'answer_start': 256},\n",
       "   {'text': 'Denmark, Iceland and Norway', 'answer_start': 256}],\n",
       "  'is_impossible': False},\n",
       " {'question': 'Who was the Norse leader?',\n",
       "  'id': '56ddde6b9a695914005b962b',\n",
       "  'answers': [{'text': 'Rollo', 'answer_start': 308},\n",
       "   {'text': 'Rollo', 'answer_start': 308},\n",
       "   {'text': 'Rollo', 'answer_start': 308},\n",
       "   {'text': 'Rollo', 'answer_start': 308}],\n",
       "  'is_impossible': False},\n",
       " {'question': 'What century did the Normans first gain their separate identity?',\n",
       "  'id': '56ddde6b9a695914005b962c',\n",
       "  'answers': [{'text': '10th century', 'answer_start': 671},\n",
       "   {'text': 'the first half of the 10th century', 'answer_start': 649},\n",
       "   {'text': '10th', 'answer_start': 671},\n",
       "   {'text': '10th', 'answer_start': 671}],\n",
       "  'is_impossible': False},\n",
       " {'plausible_answers': [{'text': 'Normans', 'answer_start': 4}],\n",
       "  'question': \"Who gave their name to Normandy in the 1000's and 1100's\",\n",
       "  'id': '5ad39d53604f3c001a3fe8d1',\n",
       "  'answers': [],\n",
       "  'is_impossible': True},\n",
       " {'plausible_answers': [{'text': 'Normandy', 'answer_start': 137}],\n",
       "  'question': 'What is France a region of?',\n",
       "  'id': '5ad39d53604f3c001a3fe8d2',\n",
       "  'answers': [],\n",
       "  'is_impossible': True},\n",
       " {'plausible_answers': [{'text': 'Rollo', 'answer_start': 308}],\n",
       "  'question': 'Who did King Charles III swear fealty to?',\n",
       "  'id': '5ad39d53604f3c001a3fe8d3',\n",
       "  'answers': [],\n",
       "  'is_impossible': True},\n",
       " {'plausible_answers': [{'text': '10th century', 'answer_start': 671}],\n",
       "  'question': 'When did the Frankish identity emerge?',\n",
       "  'id': '5ad39d53604f3c001a3fe8d4',\n",
       "  'answers': [],\n",
       "  'is_impossible': True}]"
      ]
     },
     "execution_count": 6,
     "metadata": {},
     "output_type": "execute_result"
    }
   ],
   "source": [
    "pd.json_normalize(file,['data','paragraphs']).iloc[0]['qas']"
   ]
  },
  {
   "cell_type": "code",
   "execution_count": 7,
   "metadata": {},
   "outputs": [],
   "source": [
    "def read_squad_json(file):\n",
    "    # read json file\n",
    "    file = json.loads(open(file).read())\n",
    "    #get context column and questions column\n",
    "    context_questions = pd.json_normalize(file,['data','paragraphs'])\n",
    "    #repeat context column for each question\n",
    "    idx = np.repeat(context_questions['context'].values, context_questions.qas.str.len())\n",
    "    #separate question and answer columns\n",
    "    dataframe = pd.json_normalize(file,record_path=['data','paragraphs','qas'])\n",
    "    #add context to each question\n",
    "    dataframe['context'] = idx\n",
    "    return dataframe"
   ]
  },
  {
   "cell_type": "code",
   "execution_count": 94,
   "metadata": {},
   "outputs": [
    {
     "data": {
      "text/html": [
       "<div>\n",
       "<style scoped>\n",
       "    .dataframe tbody tr th:only-of-type {\n",
       "        vertical-align: middle;\n",
       "    }\n",
       "\n",
       "    .dataframe tbody tr th {\n",
       "        vertical-align: top;\n",
       "    }\n",
       "\n",
       "    .dataframe thead th {\n",
       "        text-align: right;\n",
       "    }\n",
       "</style>\n",
       "<table border=\"1\" class=\"dataframe\">\n",
       "  <thead>\n",
       "    <tr style=\"text-align: right;\">\n",
       "      <th></th>\n",
       "      <th>question</th>\n",
       "      <th>id</th>\n",
       "      <th>answers</th>\n",
       "      <th>is_impossible</th>\n",
       "      <th>plausible_answers</th>\n",
       "      <th>context</th>\n",
       "    </tr>\n",
       "  </thead>\n",
       "  <tbody>\n",
       "    <tr>\n",
       "      <th>0</th>\n",
       "      <td>In what country is Normandy located?</td>\n",
       "      <td>56ddde6b9a695914005b9628</td>\n",
       "      <td>[{'text': 'France', 'answer_start': 159}, {'te...</td>\n",
       "      <td>False</td>\n",
       "      <td>NaN</td>\n",
       "      <td>The Normans (Norman: Nourmands; French: Norman...</td>\n",
       "    </tr>\n",
       "    <tr>\n",
       "      <th>1</th>\n",
       "      <td>When were the Normans in Normandy?</td>\n",
       "      <td>56ddde6b9a695914005b9629</td>\n",
       "      <td>[{'text': '10th and 11th centuries', 'answer_s...</td>\n",
       "      <td>False</td>\n",
       "      <td>NaN</td>\n",
       "      <td>The Normans (Norman: Nourmands; French: Norman...</td>\n",
       "    </tr>\n",
       "    <tr>\n",
       "      <th>2</th>\n",
       "      <td>From which countries did the Norse originate?</td>\n",
       "      <td>56ddde6b9a695914005b962a</td>\n",
       "      <td>[{'text': 'Denmark, Iceland and Norway', 'answ...</td>\n",
       "      <td>False</td>\n",
       "      <td>NaN</td>\n",
       "      <td>The Normans (Norman: Nourmands; French: Norman...</td>\n",
       "    </tr>\n",
       "    <tr>\n",
       "      <th>3</th>\n",
       "      <td>Who was the Norse leader?</td>\n",
       "      <td>56ddde6b9a695914005b962b</td>\n",
       "      <td>[{'text': 'Rollo', 'answer_start': 308}, {'tex...</td>\n",
       "      <td>False</td>\n",
       "      <td>NaN</td>\n",
       "      <td>The Normans (Norman: Nourmands; French: Norman...</td>\n",
       "    </tr>\n",
       "    <tr>\n",
       "      <th>4</th>\n",
       "      <td>What century did the Normans first gain their ...</td>\n",
       "      <td>56ddde6b9a695914005b962c</td>\n",
       "      <td>[{'text': '10th century', 'answer_start': 671}...</td>\n",
       "      <td>False</td>\n",
       "      <td>NaN</td>\n",
       "      <td>The Normans (Norman: Nourmands; French: Norman...</td>\n",
       "    </tr>\n",
       "    <tr>\n",
       "      <th>...</th>\n",
       "      <td>...</td>\n",
       "      <td>...</td>\n",
       "      <td>...</td>\n",
       "      <td>...</td>\n",
       "      <td>...</td>\n",
       "      <td>...</td>\n",
       "    </tr>\n",
       "    <tr>\n",
       "      <th>11868</th>\n",
       "      <td>What is the seldom used force unit equal to on...</td>\n",
       "      <td>5737aafd1c456719005744ff</td>\n",
       "      <td>[{'text': 'sthène', 'answer_start': 665}, {'te...</td>\n",
       "      <td>False</td>\n",
       "      <td>NaN</td>\n",
       "      <td>The pound-force has a metric counterpart, less...</td>\n",
       "    </tr>\n",
       "    <tr>\n",
       "      <th>11869</th>\n",
       "      <td>What does not have a metric counterpart?</td>\n",
       "      <td>5ad28ad0d7d075001a4299cc</td>\n",
       "      <td>[]</td>\n",
       "      <td>True</td>\n",
       "      <td>[{'text': 'pound-force', 'answer_start': 4}]</td>\n",
       "      <td>The pound-force has a metric counterpart, less...</td>\n",
       "    </tr>\n",
       "    <tr>\n",
       "      <th>11870</th>\n",
       "      <td>What is the force exerted by standard gravity ...</td>\n",
       "      <td>5ad28ad0d7d075001a4299cd</td>\n",
       "      <td>[]</td>\n",
       "      <td>True</td>\n",
       "      <td>[{'text': 'kilogram-force', 'answer_start': 82}]</td>\n",
       "      <td>The pound-force has a metric counterpart, less...</td>\n",
       "    </tr>\n",
       "    <tr>\n",
       "      <th>11871</th>\n",
       "      <td>What force leads to a commonly used unit of mass?</td>\n",
       "      <td>5ad28ad0d7d075001a4299ce</td>\n",
       "      <td>[]</td>\n",
       "      <td>True</td>\n",
       "      <td>[{'text': 'kilogram-force', 'answer_start': 195}]</td>\n",
       "      <td>The pound-force has a metric counterpart, less...</td>\n",
       "    </tr>\n",
       "    <tr>\n",
       "      <th>11872</th>\n",
       "      <td>What force is part of the modern SI system?</td>\n",
       "      <td>5ad28ad0d7d075001a4299cf</td>\n",
       "      <td>[]</td>\n",
       "      <td>True</td>\n",
       "      <td>[{'text': 'kilogram-force', 'answer_start': 383}]</td>\n",
       "      <td>The pound-force has a metric counterpart, less...</td>\n",
       "    </tr>\n",
       "  </tbody>\n",
       "</table>\n",
       "<p>11873 rows × 6 columns</p>\n",
       "</div>"
      ],
      "text/plain": [
       "                                                question  \\\n",
       "0                   In what country is Normandy located?   \n",
       "1                     When were the Normans in Normandy?   \n",
       "2          From which countries did the Norse originate?   \n",
       "3                              Who was the Norse leader?   \n",
       "4      What century did the Normans first gain their ...   \n",
       "...                                                  ...   \n",
       "11868  What is the seldom used force unit equal to on...   \n",
       "11869           What does not have a metric counterpart?   \n",
       "11870  What is the force exerted by standard gravity ...   \n",
       "11871  What force leads to a commonly used unit of mass?   \n",
       "11872        What force is part of the modern SI system?   \n",
       "\n",
       "                             id  \\\n",
       "0      56ddde6b9a695914005b9628   \n",
       "1      56ddde6b9a695914005b9629   \n",
       "2      56ddde6b9a695914005b962a   \n",
       "3      56ddde6b9a695914005b962b   \n",
       "4      56ddde6b9a695914005b962c   \n",
       "...                         ...   \n",
       "11868  5737aafd1c456719005744ff   \n",
       "11869  5ad28ad0d7d075001a4299cc   \n",
       "11870  5ad28ad0d7d075001a4299cd   \n",
       "11871  5ad28ad0d7d075001a4299ce   \n",
       "11872  5ad28ad0d7d075001a4299cf   \n",
       "\n",
       "                                                 answers  is_impossible  \\\n",
       "0      [{'text': 'France', 'answer_start': 159}, {'te...          False   \n",
       "1      [{'text': '10th and 11th centuries', 'answer_s...          False   \n",
       "2      [{'text': 'Denmark, Iceland and Norway', 'answ...          False   \n",
       "3      [{'text': 'Rollo', 'answer_start': 308}, {'tex...          False   \n",
       "4      [{'text': '10th century', 'answer_start': 671}...          False   \n",
       "...                                                  ...            ...   \n",
       "11868  [{'text': 'sthène', 'answer_start': 665}, {'te...          False   \n",
       "11869                                                 []           True   \n",
       "11870                                                 []           True   \n",
       "11871                                                 []           True   \n",
       "11872                                                 []           True   \n",
       "\n",
       "                                       plausible_answers  \\\n",
       "0                                                    NaN   \n",
       "1                                                    NaN   \n",
       "2                                                    NaN   \n",
       "3                                                    NaN   \n",
       "4                                                    NaN   \n",
       "...                                                  ...   \n",
       "11868                                                NaN   \n",
       "11869       [{'text': 'pound-force', 'answer_start': 4}]   \n",
       "11870   [{'text': 'kilogram-force', 'answer_start': 82}]   \n",
       "11871  [{'text': 'kilogram-force', 'answer_start': 195}]   \n",
       "11872  [{'text': 'kilogram-force', 'answer_start': 383}]   \n",
       "\n",
       "                                                 context  \n",
       "0      The Normans (Norman: Nourmands; French: Norman...  \n",
       "1      The Normans (Norman: Nourmands; French: Norman...  \n",
       "2      The Normans (Norman: Nourmands; French: Norman...  \n",
       "3      The Normans (Norman: Nourmands; French: Norman...  \n",
       "4      The Normans (Norman: Nourmands; French: Norman...  \n",
       "...                                                  ...  \n",
       "11868  The pound-force has a metric counterpart, less...  \n",
       "11869  The pound-force has a metric counterpart, less...  \n",
       "11870  The pound-force has a metric counterpart, less...  \n",
       "11871  The pound-force has a metric counterpart, less...  \n",
       "11872  The pound-force has a metric counterpart, less...  \n",
       "\n",
       "[11873 rows x 6 columns]"
      ]
     },
     "execution_count": 94,
     "metadata": {},
     "output_type": "execute_result"
    }
   ],
   "source": [
    "data = read_squad_json(\"dev-v2.0.json\")\n",
    "data"
   ]
  },
  {
   "cell_type": "code",
   "execution_count": 95,
   "metadata": {},
   "outputs": [],
   "source": [
    "def get_text(row):\n",
    "    answer = ''\n",
    "    plausible_answers =''\n",
    "    if row['answers']:\n",
    "        answer = row['answers'][0]['text']\n",
    "    if row['plausible_answers']:\n",
    "        plausible_answers= row['plausible_answers'][0]['text']\n",
    "    return answer +plausible_answers\n",
    "# def answer_as_text(dataframe):\n",
    "#     dataframe['plausible_answers'].fillna('',inplace=True)\n",
    "#     dataframe['answer_text'] = dataframe.apply(get_text,axis=1)\n",
    "#     # dataframe['answer_text'] = 'sss '+ dataframe['answer_text'] + ' eee'\n",
    "#     return dataframe"
   ]
  },
  {
   "cell_type": "code",
   "execution_count": 100,
   "metadata": {},
   "outputs": [],
   "source": [
    "def answers_begin(row):\n",
    "    if row['answers']:\n",
    "        return  row['answers'][0]['answer_start']\n",
    "    if row['plausible_answers']:\n",
    "        return row['plausible_answers'][0]['answer_start']\n",
    "def answers(dataframe):\n",
    "    # dataframe['plausible_answers'].fillna('',inplace=True)\n",
    "    dataframe['plausible_answers'].fillna('',inplace=True)\n",
    "    dataframe['answer_text'] = dataframe.apply(get_text,axis=1)\n",
    "    dataframe['answer_start'] = dataframe.apply(answers_begin,axis=1)\n",
    "    dataframe['answer_start'].dropna(inplace=True)\n",
    "    dataframe['answer_start'] = dataframe['answer_start'].round().astype('Int32')\n",
    "    return dataframe"
   ]
  },
  {
   "cell_type": "code",
   "execution_count": 101,
   "metadata": {},
   "outputs": [
    {
     "data": {
      "text/plain": [
       "177"
      ]
     },
     "execution_count": 101,
     "metadata": {},
     "output_type": "execute_result"
    }
   ],
   "source": [
    "ss = '''Super Bowl 50 was an American football game to determine the champion of the National Football League (NFL) for the 2015 season. The American Football Conference (AFC) champion '''\n",
    "len(ss)"
   ]
  },
  {
   "cell_type": "code",
   "execution_count": 102,
   "metadata": {},
   "outputs": [
    {
     "data": {
      "text/plain": [
       "'France. They were descended from Norse (\"Norman\" comes from \"Norseman\") raiders and pirates from Denmark, Iceland and Norway who, under their leader Rollo, agreed to swear fealty to King Charles III of West Francia. Through generations of assimilation and mixing with the native Frankish and Roman-Gaulish populations, their descendants would gradually merge with the Carolingian-based cultures of West Francia. The distinct cultural and ethnic identity of the Normans emerged initially in the first half of the 10th century, and it continued to evolve over the succeeding centuries.'"
      ]
     },
     "execution_count": 102,
     "metadata": {},
     "output_type": "execute_result"
    }
   ],
   "source": [
    "dd['context'][0][159:]"
   ]
  },
  {
   "cell_type": "code",
   "execution_count": 103,
   "metadata": {},
   "outputs": [
    {
     "data": {
      "text/html": [
       "<div>\n",
       "<style scoped>\n",
       "    .dataframe tbody tr th:only-of-type {\n",
       "        vertical-align: middle;\n",
       "    }\n",
       "\n",
       "    .dataframe tbody tr th {\n",
       "        vertical-align: top;\n",
       "    }\n",
       "\n",
       "    .dataframe thead th {\n",
       "        text-align: right;\n",
       "    }\n",
       "</style>\n",
       "<table border=\"1\" class=\"dataframe\">\n",
       "  <thead>\n",
       "    <tr style=\"text-align: right;\">\n",
       "      <th></th>\n",
       "      <th>question</th>\n",
       "      <th>id</th>\n",
       "      <th>answers</th>\n",
       "      <th>is_impossible</th>\n",
       "      <th>plausible_answers</th>\n",
       "      <th>context</th>\n",
       "      <th>answer_text</th>\n",
       "      <th>answer_start</th>\n",
       "      <th>answer_end</th>\n",
       "    </tr>\n",
       "  </thead>\n",
       "  <tbody>\n",
       "    <tr>\n",
       "      <th>0</th>\n",
       "      <td>In what country is Normandy located?</td>\n",
       "      <td>56ddde6b9a695914005b9628</td>\n",
       "      <td>[{'text': 'France', 'answer_start': 159}, {'te...</td>\n",
       "      <td>False</td>\n",
       "      <td></td>\n",
       "      <td>The Normans (Norman: Nourmands; French: Norman...</td>\n",
       "      <td>France</td>\n",
       "      <td>159</td>\n",
       "      <td>164</td>\n",
       "    </tr>\n",
       "    <tr>\n",
       "      <th>1</th>\n",
       "      <td>When were the Normans in Normandy?</td>\n",
       "      <td>56ddde6b9a695914005b9629</td>\n",
       "      <td>[{'text': '10th and 11th centuries', 'answer_s...</td>\n",
       "      <td>False</td>\n",
       "      <td></td>\n",
       "      <td>The Normans (Norman: Nourmands; French: Norman...</td>\n",
       "      <td>10th and 11th centuries</td>\n",
       "      <td>94</td>\n",
       "      <td>116</td>\n",
       "    </tr>\n",
       "    <tr>\n",
       "      <th>2</th>\n",
       "      <td>From which countries did the Norse originate?</td>\n",
       "      <td>56ddde6b9a695914005b962a</td>\n",
       "      <td>[{'text': 'Denmark, Iceland and Norway', 'answ...</td>\n",
       "      <td>False</td>\n",
       "      <td></td>\n",
       "      <td>The Normans (Norman: Nourmands; French: Norman...</td>\n",
       "      <td>Denmark, Iceland and Norway</td>\n",
       "      <td>256</td>\n",
       "      <td>282</td>\n",
       "    </tr>\n",
       "    <tr>\n",
       "      <th>3</th>\n",
       "      <td>Who was the Norse leader?</td>\n",
       "      <td>56ddde6b9a695914005b962b</td>\n",
       "      <td>[{'text': 'Rollo', 'answer_start': 308}, {'tex...</td>\n",
       "      <td>False</td>\n",
       "      <td></td>\n",
       "      <td>The Normans (Norman: Nourmands; French: Norman...</td>\n",
       "      <td>Rollo</td>\n",
       "      <td>308</td>\n",
       "      <td>312</td>\n",
       "    </tr>\n",
       "    <tr>\n",
       "      <th>4</th>\n",
       "      <td>What century did the Normans first gain their ...</td>\n",
       "      <td>56ddde6b9a695914005b962c</td>\n",
       "      <td>[{'text': '10th century', 'answer_start': 671}...</td>\n",
       "      <td>False</td>\n",
       "      <td></td>\n",
       "      <td>The Normans (Norman: Nourmands; French: Norman...</td>\n",
       "      <td>10th century</td>\n",
       "      <td>671</td>\n",
       "      <td>682</td>\n",
       "    </tr>\n",
       "    <tr>\n",
       "      <th>...</th>\n",
       "      <td>...</td>\n",
       "      <td>...</td>\n",
       "      <td>...</td>\n",
       "      <td>...</td>\n",
       "      <td>...</td>\n",
       "      <td>...</td>\n",
       "      <td>...</td>\n",
       "      <td>...</td>\n",
       "      <td>...</td>\n",
       "    </tr>\n",
       "    <tr>\n",
       "      <th>11868</th>\n",
       "      <td>What is the seldom used force unit equal to on...</td>\n",
       "      <td>5737aafd1c456719005744ff</td>\n",
       "      <td>[{'text': 'sthène', 'answer_start': 665}, {'te...</td>\n",
       "      <td>False</td>\n",
       "      <td></td>\n",
       "      <td>The pound-force has a metric counterpart, less...</td>\n",
       "      <td>sthène</td>\n",
       "      <td>665</td>\n",
       "      <td>670</td>\n",
       "    </tr>\n",
       "    <tr>\n",
       "      <th>11869</th>\n",
       "      <td>What does not have a metric counterpart?</td>\n",
       "      <td>5ad28ad0d7d075001a4299cc</td>\n",
       "      <td>[]</td>\n",
       "      <td>True</td>\n",
       "      <td>[{'text': 'pound-force', 'answer_start': 4}]</td>\n",
       "      <td>The pound-force has a metric counterpart, less...</td>\n",
       "      <td>pound-force</td>\n",
       "      <td>4</td>\n",
       "      <td>14</td>\n",
       "    </tr>\n",
       "    <tr>\n",
       "      <th>11870</th>\n",
       "      <td>What is the force exerted by standard gravity ...</td>\n",
       "      <td>5ad28ad0d7d075001a4299cd</td>\n",
       "      <td>[]</td>\n",
       "      <td>True</td>\n",
       "      <td>[{'text': 'kilogram-force', 'answer_start': 82}]</td>\n",
       "      <td>The pound-force has a metric counterpart, less...</td>\n",
       "      <td>kilogram-force</td>\n",
       "      <td>82</td>\n",
       "      <td>95</td>\n",
       "    </tr>\n",
       "    <tr>\n",
       "      <th>11871</th>\n",
       "      <td>What force leads to a commonly used unit of mass?</td>\n",
       "      <td>5ad28ad0d7d075001a4299ce</td>\n",
       "      <td>[]</td>\n",
       "      <td>True</td>\n",
       "      <td>[{'text': 'kilogram-force', 'answer_start': 195}]</td>\n",
       "      <td>The pound-force has a metric counterpart, less...</td>\n",
       "      <td>kilogram-force</td>\n",
       "      <td>195</td>\n",
       "      <td>208</td>\n",
       "    </tr>\n",
       "    <tr>\n",
       "      <th>11872</th>\n",
       "      <td>What force is part of the modern SI system?</td>\n",
       "      <td>5ad28ad0d7d075001a4299cf</td>\n",
       "      <td>[]</td>\n",
       "      <td>True</td>\n",
       "      <td>[{'text': 'kilogram-force', 'answer_start': 383}]</td>\n",
       "      <td>The pound-force has a metric counterpart, less...</td>\n",
       "      <td>kilogram-force</td>\n",
       "      <td>383</td>\n",
       "      <td>396</td>\n",
       "    </tr>\n",
       "  </tbody>\n",
       "</table>\n",
       "<p>11873 rows × 9 columns</p>\n",
       "</div>"
      ],
      "text/plain": [
       "                                                question  \\\n",
       "0                   In what country is Normandy located?   \n",
       "1                     When were the Normans in Normandy?   \n",
       "2          From which countries did the Norse originate?   \n",
       "3                              Who was the Norse leader?   \n",
       "4      What century did the Normans first gain their ...   \n",
       "...                                                  ...   \n",
       "11868  What is the seldom used force unit equal to on...   \n",
       "11869           What does not have a metric counterpart?   \n",
       "11870  What is the force exerted by standard gravity ...   \n",
       "11871  What force leads to a commonly used unit of mass?   \n",
       "11872        What force is part of the modern SI system?   \n",
       "\n",
       "                             id  \\\n",
       "0      56ddde6b9a695914005b9628   \n",
       "1      56ddde6b9a695914005b9629   \n",
       "2      56ddde6b9a695914005b962a   \n",
       "3      56ddde6b9a695914005b962b   \n",
       "4      56ddde6b9a695914005b962c   \n",
       "...                         ...   \n",
       "11868  5737aafd1c456719005744ff   \n",
       "11869  5ad28ad0d7d075001a4299cc   \n",
       "11870  5ad28ad0d7d075001a4299cd   \n",
       "11871  5ad28ad0d7d075001a4299ce   \n",
       "11872  5ad28ad0d7d075001a4299cf   \n",
       "\n",
       "                                                 answers  is_impossible  \\\n",
       "0      [{'text': 'France', 'answer_start': 159}, {'te...          False   \n",
       "1      [{'text': '10th and 11th centuries', 'answer_s...          False   \n",
       "2      [{'text': 'Denmark, Iceland and Norway', 'answ...          False   \n",
       "3      [{'text': 'Rollo', 'answer_start': 308}, {'tex...          False   \n",
       "4      [{'text': '10th century', 'answer_start': 671}...          False   \n",
       "...                                                  ...            ...   \n",
       "11868  [{'text': 'sthène', 'answer_start': 665}, {'te...          False   \n",
       "11869                                                 []           True   \n",
       "11870                                                 []           True   \n",
       "11871                                                 []           True   \n",
       "11872                                                 []           True   \n",
       "\n",
       "                                       plausible_answers  \\\n",
       "0                                                          \n",
       "1                                                          \n",
       "2                                                          \n",
       "3                                                          \n",
       "4                                                          \n",
       "...                                                  ...   \n",
       "11868                                                      \n",
       "11869       [{'text': 'pound-force', 'answer_start': 4}]   \n",
       "11870   [{'text': 'kilogram-force', 'answer_start': 82}]   \n",
       "11871  [{'text': 'kilogram-force', 'answer_start': 195}]   \n",
       "11872  [{'text': 'kilogram-force', 'answer_start': 383}]   \n",
       "\n",
       "                                                 context  \\\n",
       "0      The Normans (Norman: Nourmands; French: Norman...   \n",
       "1      The Normans (Norman: Nourmands; French: Norman...   \n",
       "2      The Normans (Norman: Nourmands; French: Norman...   \n",
       "3      The Normans (Norman: Nourmands; French: Norman...   \n",
       "4      The Normans (Norman: Nourmands; French: Norman...   \n",
       "...                                                  ...   \n",
       "11868  The pound-force has a metric counterpart, less...   \n",
       "11869  The pound-force has a metric counterpart, less...   \n",
       "11870  The pound-force has a metric counterpart, less...   \n",
       "11871  The pound-force has a metric counterpart, less...   \n",
       "11872  The pound-force has a metric counterpart, less...   \n",
       "\n",
       "                       answer_text  answer_start  answer_end  \n",
       "0                           France           159         164  \n",
       "1          10th and 11th centuries            94         116  \n",
       "2      Denmark, Iceland and Norway           256         282  \n",
       "3                            Rollo           308         312  \n",
       "4                     10th century           671         682  \n",
       "...                            ...           ...         ...  \n",
       "11868                       sthène           665         670  \n",
       "11869                  pound-force             4          14  \n",
       "11870               kilogram-force            82          95  \n",
       "11871               kilogram-force           195         208  \n",
       "11872               kilogram-force           383         396  \n",
       "\n",
       "[11873 rows x 9 columns]"
      ]
     },
     "execution_count": 103,
     "metadata": {},
     "output_type": "execute_result"
    }
   ],
   "source": [
    "dd = answers(data)\n",
    "dd"
   ]
  },
  {
   "cell_type": "code",
   "execution_count": 83,
   "metadata": {},
   "outputs": [],
   "source": []
  },
  {
   "cell_type": "code",
   "execution_count": 75,
   "metadata": {},
   "outputs": [
    {
     "data": {
      "text/plain": [
       "0        159\n",
       "1         94\n",
       "2        256\n",
       "3        308\n",
       "4        671\n",
       "        ... \n",
       "11868    665\n",
       "11869      4\n",
       "11870     82\n",
       "11871    195\n",
       "11872    383\n",
       "Name: allanswers, Length: 11873, dtype: Int32"
      ]
     },
     "execution_count": 75,
     "metadata": {},
     "output_type": "execute_result"
    }
   ],
   "source": []
  },
  {
   "cell_type": "code",
   "execution_count": 39,
   "metadata": {},
   "outputs": [],
   "source": [
    "data = answer_as_text(data)[['question','context','answer_text']]"
   ]
  },
  {
   "cell_type": "code",
   "execution_count": 40,
   "metadata": {},
   "outputs": [
    {
     "data": {
      "text/html": [
       "<div>\n",
       "<style scoped>\n",
       "    .dataframe tbody tr th:only-of-type {\n",
       "        vertical-align: middle;\n",
       "    }\n",
       "\n",
       "    .dataframe tbody tr th {\n",
       "        vertical-align: top;\n",
       "    }\n",
       "\n",
       "    .dataframe thead th {\n",
       "        text-align: right;\n",
       "    }\n",
       "</style>\n",
       "<table border=\"1\" class=\"dataframe\">\n",
       "  <thead>\n",
       "    <tr style=\"text-align: right;\">\n",
       "      <th></th>\n",
       "      <th>question</th>\n",
       "      <th>context</th>\n",
       "      <th>answer_text</th>\n",
       "    </tr>\n",
       "  </thead>\n",
       "  <tbody>\n",
       "    <tr>\n",
       "      <th>0</th>\n",
       "      <td>In what country is Normandy located?</td>\n",
       "      <td>The Normans (Norman: Nourmands; French: Norman...</td>\n",
       "      <td>France</td>\n",
       "    </tr>\n",
       "    <tr>\n",
       "      <th>1</th>\n",
       "      <td>When were the Normans in Normandy?</td>\n",
       "      <td>The Normans (Norman: Nourmands; French: Norman...</td>\n",
       "      <td>10th and 11th centuries</td>\n",
       "    </tr>\n",
       "    <tr>\n",
       "      <th>2</th>\n",
       "      <td>From which countries did the Norse originate?</td>\n",
       "      <td>The Normans (Norman: Nourmands; French: Norman...</td>\n",
       "      <td>Denmark, Iceland and Norway</td>\n",
       "    </tr>\n",
       "    <tr>\n",
       "      <th>3</th>\n",
       "      <td>Who was the Norse leader?</td>\n",
       "      <td>The Normans (Norman: Nourmands; French: Norman...</td>\n",
       "      <td>Rollo</td>\n",
       "    </tr>\n",
       "    <tr>\n",
       "      <th>4</th>\n",
       "      <td>What century did the Normans first gain their ...</td>\n",
       "      <td>The Normans (Norman: Nourmands; French: Norman...</td>\n",
       "      <td>10th century</td>\n",
       "    </tr>\n",
       "    <tr>\n",
       "      <th>...</th>\n",
       "      <td>...</td>\n",
       "      <td>...</td>\n",
       "      <td>...</td>\n",
       "    </tr>\n",
       "    <tr>\n",
       "      <th>11868</th>\n",
       "      <td>What is the seldom used force unit equal to on...</td>\n",
       "      <td>The pound-force has a metric counterpart, less...</td>\n",
       "      <td>sthène</td>\n",
       "    </tr>\n",
       "    <tr>\n",
       "      <th>11869</th>\n",
       "      <td>What does not have a metric counterpart?</td>\n",
       "      <td>The pound-force has a metric counterpart, less...</td>\n",
       "      <td>pound-force</td>\n",
       "    </tr>\n",
       "    <tr>\n",
       "      <th>11870</th>\n",
       "      <td>What is the force exerted by standard gravity ...</td>\n",
       "      <td>The pound-force has a metric counterpart, less...</td>\n",
       "      <td>kilogram-force</td>\n",
       "    </tr>\n",
       "    <tr>\n",
       "      <th>11871</th>\n",
       "      <td>What force leads to a commonly used unit of mass?</td>\n",
       "      <td>The pound-force has a metric counterpart, less...</td>\n",
       "      <td>kilogram-force</td>\n",
       "    </tr>\n",
       "    <tr>\n",
       "      <th>11872</th>\n",
       "      <td>What force is part of the modern SI system?</td>\n",
       "      <td>The pound-force has a metric counterpart, less...</td>\n",
       "      <td>kilogram-force</td>\n",
       "    </tr>\n",
       "  </tbody>\n",
       "</table>\n",
       "<p>11873 rows × 3 columns</p>\n",
       "</div>"
      ],
      "text/plain": [
       "                                                question  \\\n",
       "0                   In what country is Normandy located?   \n",
       "1                     When were the Normans in Normandy?   \n",
       "2          From which countries did the Norse originate?   \n",
       "3                              Who was the Norse leader?   \n",
       "4      What century did the Normans first gain their ...   \n",
       "...                                                  ...   \n",
       "11868  What is the seldom used force unit equal to on...   \n",
       "11869           What does not have a metric counterpart?   \n",
       "11870  What is the force exerted by standard gravity ...   \n",
       "11871  What force leads to a commonly used unit of mass?   \n",
       "11872        What force is part of the modern SI system?   \n",
       "\n",
       "                                                 context  \\\n",
       "0      The Normans (Norman: Nourmands; French: Norman...   \n",
       "1      The Normans (Norman: Nourmands; French: Norman...   \n",
       "2      The Normans (Norman: Nourmands; French: Norman...   \n",
       "3      The Normans (Norman: Nourmands; French: Norman...   \n",
       "4      The Normans (Norman: Nourmands; French: Norman...   \n",
       "...                                                  ...   \n",
       "11868  The pound-force has a metric counterpart, less...   \n",
       "11869  The pound-force has a metric counterpart, less...   \n",
       "11870  The pound-force has a metric counterpart, less...   \n",
       "11871  The pound-force has a metric counterpart, less...   \n",
       "11872  The pound-force has a metric counterpart, less...   \n",
       "\n",
       "                       answer_text  \n",
       "0                           France  \n",
       "1          10th and 11th centuries  \n",
       "2      Denmark, Iceland and Norway  \n",
       "3                            Rollo  \n",
       "4                     10th century  \n",
       "...                            ...  \n",
       "11868                       sthène  \n",
       "11869                  pound-force  \n",
       "11870               kilogram-force  \n",
       "11871               kilogram-force  \n",
       "11872               kilogram-force  \n",
       "\n",
       "[11873 rows x 3 columns]"
      ]
     },
     "execution_count": 40,
     "metadata": {},
     "output_type": "execute_result"
    }
   ],
   "source": [
    "data"
   ]
  },
  {
   "cell_type": "code",
   "execution_count": 10,
   "metadata": {},
   "outputs": [
    {
     "name": "stdout",
     "output_type": "stream",
     "text": [
      "avg length of question is : 10.090794239029732\n"
     ]
    },
    {
     "data": {
      "text/plain": [
       "\"In which case did the Court of Justice state that refusal to admit a lawyer to the Belgian bar because he did not have Belgian heritage wasn't able to be justified?\""
      ]
     },
     "execution_count": 10,
     "metadata": {},
     "output_type": "execute_result"
    }
   ],
   "source": [
    "print('avg length of question is :',data['question'].str.split(' ').map(len).mean())\n",
    "data.iloc[data['question'].str.split(' ').map(len).argmax()]['question']"
   ]
  },
  {
   "cell_type": "code",
   "execution_count": 11,
   "metadata": {},
   "outputs": [
    {
     "name": "stdout",
     "output_type": "stream",
     "text": [
      "avg length of context is : 127.87256801145456\n"
     ]
    },
    {
     "data": {
      "text/plain": [
       "'The \"freedom to provide services\" under TFEU article 56 applies to people who give services \"for remuneration\", especially commercial or professional activity. For example, in Van Binsbergen v Bestuur van de Bedrijfvereniging voor de Metaalnijverheid a Dutch lawyer moved to Belgium while advising a client in a social security case, and was told he could not continue because Dutch law said only people established in the Netherlands could give legal advice. The Court of Justice held that the freedom to provide services applied, it was directly effective, and the rule was probably unjustified: having an address in the member state would be enough to pursue the legitimate aim of good administration of justice. The Court of Justice has held that secondary education falls outside the scope of article 56, because usually the state funds it, though higher education does not. Health care generally counts as a service. In Geraets-Smits v Stichting Ziekenfonds Mrs Geraets-Smits claimed she should be reimbursed by Dutch social insurance for costs of receiving treatment in Germany. The Dutch health authorities regarded the treatment unnecessary, so she argued this restricted the freedom (of the German health clinic) to provide services. Several governments submitted that hospital services should not be regarded as economic, and should not fall within article 56. But the Court of Justice held health was a \"service\" even though the government (rather than the service recipient) paid for the service. National authorities could be justified in refusing to reimburse patients for medical services abroad if the health care received at home was without undue delay, and it followed \"international medical science\" on which treatments counted as normal and necessary. The Court requires that the individual circumstances of a patient justify waiting lists, and this is also true in the context of the UK\\'s National Health Service. Aside from public services, another sensitive field of services are those classified as illegal. Josemans v Burgemeester van Maastricht held that the Netherlands\\' regulation of cannabis consumption, including the prohibitions by some municipalities on tourists (but not Dutch nationals) going to coffee shops, fell outside article 56 altogether. The Court of Justice reasoned that narcotic drugs were controlled in all member states, and so this differed from other cases where prostitution or other quasi-legal activity was subject to restriction. If an activity does fall within article 56, a restriction can be justified under article 52 or overriding requirements developed by the Court of Justice. In Alpine Investments BV v Minister van Financiën a business that sold commodities futures (with Merrill Lynch and another banking firms) attempted to challenge a Dutch law that prohibiting cold calling customers. The Court of Justice held the Dutch prohibition pursued a legitimate aim to prevent \"undesirable developments in securities trading\" including protecting the consumer from aggressive sales tactics, thus maintaining confidence in the Dutch markets. In Omega Spielhallen GmbH v Bonn a \"laserdrome\" business was banned by the Bonn council. It bought fake laser gun services from a UK firm called Pulsar Ltd, but residents had protested against \"playing at killing\" entertainment. The Court of Justice held that the German constitutional value of human dignity, which underpinned the ban, did count as a justified restriction on freedom to provide services. In Liga Portuguesa de Futebol v Santa Casa da Misericórdia de Lisboa the Court of Justice also held that the state monopoly on gambling, and a penalty for a Gibraltar firm that had sold internet gambling services, was justified to prevent fraud and gambling where people\\'s views were highly divergent. The ban was proportionate as this was an appropriate and necessary way to tackle the serious problems of fraud that arise over the internet. In the Services Directive a group of justifications were codified in article 16 that the case law has developed.'"
      ]
     },
     "execution_count": 11,
     "metadata": {},
     "output_type": "execute_result"
    }
   ],
   "source": [
    "print('avg length of context is :',data['context'].str.split(' ').map(len).mean())\n",
    "data.iloc[data['context'].str.split(' ').map(len).argmax()]['context']"
   ]
  },
  {
   "cell_type": "code",
   "execution_count": 12,
   "metadata": {},
   "outputs": [
    {
     "name": "stdout",
     "output_type": "stream",
     "text": [
      "avg length of answers is : 5.337909542659816  word \n"
     ]
    },
    {
     "data": {
      "text/plain": [
       "'sss a mouth that can usually be closed by muscles; a pharynx (\"throat\"); a wider area in the center that acts as a stomach; and a system of internal canals. eee'"
      ]
     },
     "execution_count": 12,
     "metadata": {},
     "output_type": "execute_result"
    }
   ],
   "source": [
    "print('avg length of answers is :',data['answer_text'].str.split(' ').map(len).mean(), ' word ')\n",
    "data.iloc[data['answer_text'].str.split(' ').map(len).argmax()]['answer_text']"
   ]
  },
  {
   "cell_type": "markdown",
   "metadata": {},
   "source": [
    "# clean text"
   ]
  },
  {
   "cell_type": "code",
   "execution_count": 13,
   "metadata": {},
   "outputs": [],
   "source": [
    "\n",
    "def remove_punc(text):\n",
    "    return text.translate(str.maketrans('','',string.punctuation))#'!\"#$%&\\'()*+,-./:;<=>?@[\\\\]^_`{|}~'\n",
    "def lower_case(text):\n",
    "    return text.lower()\n",
    "def remove_non_english(text):#remove non ascci word\n",
    "    return unicodedata.normalize('NFKD',text).encode('ascii','ignore').decode('utf-8','ignore')\n",
    "def remove_links(text):\n",
    "    return re.sub(r'https?://\\S+','',text)\n",
    "def remove_whitespaces(text):\n",
    "    return text.strip()\n",
    "\n",
    "def clean_text(text):\n",
    "    return remove_punc(lower_case(remove_non_english((remove_links(text)))))"
   ]
  },
  {
   "cell_type": "code",
   "execution_count": 14,
   "metadata": {},
   "outputs": [
    {
     "name": "stderr",
     "output_type": "stream",
     "text": [
      "C:\\Users\\ahmed\\AppData\\Local\\Temp\\ipykernel_28528\\1711182541.py:1: SettingWithCopyWarning: \n",
      "A value is trying to be set on a copy of a slice from a DataFrame.\n",
      "Try using .loc[row_indexer,col_indexer] = value instead\n",
      "\n",
      "See the caveats in the documentation: https://pandas.pydata.org/pandas-docs/stable/user_guide/indexing.html#returning-a-view-versus-a-copy\n",
      "  data['question'] = data['question'].apply(clean_text)\n",
      "C:\\Users\\ahmed\\AppData\\Local\\Temp\\ipykernel_28528\\1711182541.py:2: SettingWithCopyWarning: \n",
      "A value is trying to be set on a copy of a slice from a DataFrame.\n",
      "Try using .loc[row_indexer,col_indexer] = value instead\n",
      "\n",
      "See the caveats in the documentation: https://pandas.pydata.org/pandas-docs/stable/user_guide/indexing.html#returning-a-view-versus-a-copy\n",
      "  data['context'] = data['context'].apply(clean_text)\n",
      "C:\\Users\\ahmed\\AppData\\Local\\Temp\\ipykernel_28528\\1711182541.py:3: SettingWithCopyWarning: \n",
      "A value is trying to be set on a copy of a slice from a DataFrame.\n",
      "Try using .loc[row_indexer,col_indexer] = value instead\n",
      "\n",
      "See the caveats in the documentation: https://pandas.pydata.org/pandas-docs/stable/user_guide/indexing.html#returning-a-view-versus-a-copy\n",
      "  data['answer_text'] = data['answer_text'].apply(clean_text)\n"
     ]
    }
   ],
   "source": [
    "data['question'] = data['question'].apply(clean_text)\n",
    "data['context'] = data['context'].apply(clean_text)\n",
    "data['answer_text'] = data['answer_text'].apply(clean_text)"
   ]
  },
  {
   "cell_type": "code",
   "execution_count": 15,
   "metadata": {},
   "outputs": [
    {
     "name": "stderr",
     "output_type": "stream",
     "text": [
      "C:\\Users\\ahmed\\AppData\\Local\\Temp\\ipykernel_28528\\1210320798.py:1: SettingWithCopyWarning: \n",
      "A value is trying to be set on a copy of a slice from a DataFrame.\n",
      "Try using .loc[row_indexer,col_indexer] = value instead\n",
      "\n",
      "See the caveats in the documentation: https://pandas.pydata.org/pandas-docs/stable/user_guide/indexing.html#returning-a-view-versus-a-copy\n",
      "  data['q_c']='CLS '+data['question']+' SEP '+data['context']\n"
     ]
    }
   ],
   "source": [
    "data['q_c']='CLS '+data['question']+' SEP '+data['context']"
   ]
  },
  {
   "cell_type": "code",
   "execution_count": 16,
   "metadata": {},
   "outputs": [
    {
     "name": "stdout",
     "output_type": "stream",
     "text": [
      "avg length of answers is : 653  word \n"
     ]
    },
    {
     "data": {
      "text/plain": [
       "'CLS why was the dutch lawyer who moved to belgium while advising a client in a social society case told he couldnt continue SEP the freedom to provide services under tfeu article 56 applies to people who give services for remuneration especially commercial or professional activity for example in van binsbergen v bestuur van de bedrijfvereniging voor de metaalnijverheid a dutch lawyer moved to belgium while advising a client in a social security case and was told he could not continue because dutch law said only people established in the netherlands could give legal advice the court of justice held that the freedom to provide services applied it was directly effective and the rule was probably unjustified having an address in the member state would be enough to pursue the legitimate aim of good administration of justice the court of justice has held that secondary education falls outside the scope of article 56 because usually the state funds it though higher education does not health care generally counts as a service in geraetssmits v stichting ziekenfonds mrs geraetssmits claimed she should be reimbursed by dutch social insurance for costs of receiving treatment in germany the dutch health authorities regarded the treatment unnecessary so she argued this restricted the freedom of the german health clinic to provide services several governments submitted that hospital services should not be regarded as economic and should not fall within article 56 but the court of justice held health was a service even though the government rather than the service recipient paid for the service national authorities could be justified in refusing to reimburse patients for medical services abroad if the health care received at home was without undue delay and it followed international medical science on which treatments counted as normal and necessary the court requires that the individual circumstances of a patient justify waiting lists and this is also true in the context of the uks national health service aside from public services another sensitive field of services are those classified as illegal josemans v burgemeester van maastricht held that the netherlands regulation of cannabis consumption including the prohibitions by some municipalities on tourists but not dutch nationals going to coffee shops fell outside article 56 altogether the court of justice reasoned that narcotic drugs were controlled in all member states and so this differed from other cases where prostitution or other quasilegal activity was subject to restriction if an activity does fall within article 56 a restriction can be justified under article 52 or overriding requirements developed by the court of justice in alpine investments bv v minister van financien a business that sold commodities futures with merrill lynch and another banking firms attempted to challenge a dutch law that prohibiting cold calling customers the court of justice held the dutch prohibition pursued a legitimate aim to prevent undesirable developments in securities trading including protecting the consumer from aggressive sales tactics thus maintaining confidence in the dutch markets in omega spielhallen gmbh v bonn a laserdrome business was banned by the bonn council it bought fake laser gun services from a uk firm called pulsar ltd but residents had protested against playing at killing entertainment the court of justice held that the german constitutional value of human dignity which underpinned the ban did count as a justified restriction on freedom to provide services in liga portuguesa de futebol v santa casa da misericordia de lisboa the court of justice also held that the state monopoly on gambling and a penalty for a gibraltar firm that had sold internet gambling services was justified to prevent fraud and gambling where peoples views were highly divergent the ban was proportionate as this was an appropriate and necessary way to tackle the serious problems of fraud that arise over the internet in the services directive a group of justifications were codified in article 16 that the case law has developed'"
      ]
     },
     "execution_count": 16,
     "metadata": {},
     "output_type": "execute_result"
    }
   ],
   "source": [
    "print('max length of answers is :',data['q_c'].str.split(' ').map(len).max(), ' word ')\n",
    "data.iloc[data['q_c'].str.split(' ').map(len).argmax()]['q_c']"
   ]
  },
  {
   "cell_type": "code",
   "execution_count": 17,
   "metadata": {},
   "outputs": [],
   "source": [
    "pd.to_pickle(data,'data.pkl')"
   ]
  },
  {
   "cell_type": "code",
   "execution_count": 18,
   "metadata": {},
   "outputs": [],
   "source": [
    "from tensorflow.keras.layers import TextVectorization\n",
    "import tensorflow as tf"
   ]
  },
  {
   "cell_type": "code",
   "execution_count": 19,
   "metadata": {},
   "outputs": [],
   "source": [
    "#number of words in vocabulary\n",
    "vocab_size = 40000\n",
    "# question_vectorizer = TextVectorization(max_tokens=vocab_size,output_sequence_length=15,output_mode='int')\n",
    "# context_vectorizer = TextVectorization(max_tokens=vocab_size,output_sequence_length=150,output_mode='int')\n",
    "question_context_vectorizer = TextVectorization(output_sequence_length=200,output_mode='int',standardize=None)# truncate post\n",
    "answer_vectorizer = TextVectorization(output_sequence_length=5,output_mode='int',standardize=None)"
   ]
  },
  {
   "cell_type": "code",
   "execution_count": 20,
   "metadata": {},
   "outputs": [],
   "source": [
    "all_words = data['q_c']+data['answer_text']"
   ]
  },
  {
   "cell_type": "code",
   "execution_count": 21,
   "metadata": {},
   "outputs": [],
   "source": [
    "# question_vectorizer.adapt(all_words)\n",
    "# context_vectorizer.adapt(all_words)\n",
    "question_context_vectorizer.adapt(all_words)\n",
    "answer_vectorizer.adapt(all_words)\n"
   ]
  },
  {
   "cell_type": "code",
   "execution_count": 22,
   "metadata": {},
   "outputs": [
    {
     "data": {
      "text/plain": [
       "20293"
      ]
     },
     "execution_count": 22,
     "metadata": {},
     "output_type": "execute_result"
    }
   ],
   "source": [
    "#number of words in vocabulary\n",
    "len(answer_vectorizer.get_vocabulary())"
   ]
  },
  {
   "cell_type": "code",
   "execution_count": 23,
   "metadata": {},
   "outputs": [],
   "source": [
    "# vectroized_question = question_vectorizer(data['question'])\n",
    "# vectroized_context = context_vectorizer(data['context'])\n",
    "vectroized_question_context = question_context_vectorizer(data['q_c']) \n",
    "vectroized_answer = answer_vectorizer(data['answer_text'])"
   ]
  },
  {
   "cell_type": "code",
   "execution_count": 24,
   "metadata": {},
   "outputs": [
    {
     "name": "stdout",
     "output_type": "stream",
     "text": [
      "(11873, 5)\n"
     ]
    },
    {
     "data": {
      "text/plain": [
       "<tf.Tensor: shape=(5,), dtype=int64, numpy=array([3068, 6078,  108,   14,    0], dtype=int64)>"
      ]
     },
     "execution_count": 24,
     "metadata": {},
     "output_type": "execute_result"
    }
   ],
   "source": [
    "print(vectroized_answer.shape)\n",
    "vectroized_answer[20]"
   ]
  },
  {
   "cell_type": "code",
   "execution_count": 25,
   "metadata": {},
   "outputs": [],
   "source": [
    "dataset = tf.data.Dataset.from_tensor_slices((vectroized_question_context,vectroized_answer))\n",
    "dataset = dataset.cache()\n",
    "dataset = dataset.shuffle(buffer_size=len(data))\n",
    "dataset = dataset.batch(batch_size=32)\n",
    "dataset = dataset.prefetch(8) #helps prevent bottlenecks"
   ]
  },
  {
   "cell_type": "code",
   "execution_count": 26,
   "metadata": {},
   "outputs": [
    {
     "data": {
      "text/plain": [
       "TensorShape([11873, 200])"
      ]
     },
     "execution_count": 26,
     "metadata": {},
     "output_type": "execute_result"
    }
   ],
   "source": [
    "vectroized_question_context.shape"
   ]
  },
  {
   "cell_type": "code",
   "execution_count": 27,
   "metadata": {},
   "outputs": [],
   "source": [
    "batch_X ,batch_y = dataset.as_numpy_iterator().next()"
   ]
  },
  {
   "cell_type": "code",
   "execution_count": 28,
   "metadata": {},
   "outputs": [
    {
     "data": {
      "text/plain": [
       "(32, 200)"
      ]
     },
     "execution_count": 28,
     "metadata": {},
     "output_type": "execute_result"
    }
   ],
   "source": [
    "batch_X.shape"
   ]
  },
  {
   "cell_type": "code",
   "execution_count": 29,
   "metadata": {},
   "outputs": [],
   "source": [
    "train = dataset.take(int(len(data)*0.8))\n",
    "val = dataset.skip(int(len(data)*0.8)).take(int(len(data)*0.2))"
   ]
  },
  {
   "cell_type": "code",
   "execution_count": 30,
   "metadata": {},
   "outputs": [
    {
     "data": {
      "text/plain": [
       "<TakeDataset element_spec=(TensorSpec(shape=(None, 200), dtype=tf.int64, name=None), TensorSpec(shape=(None, 5), dtype=tf.int64, name=None))>"
      ]
     },
     "execution_count": 30,
     "metadata": {},
     "output_type": "execute_result"
    }
   ],
   "source": [
    "train"
   ]
  },
  {
   "cell_type": "code",
   "execution_count": 31,
   "metadata": {},
   "outputs": [
    {
     "data": {
      "text/plain": [
       "(array([[   16,    46,    13, ...,     0,     0,     0],\n",
       "        [   16,    68,    13, ...,     0,     0,     0],\n",
       "        [   16,    21,    58, ...,     0,     0,     0],\n",
       "        ...,\n",
       "        [   16,    85,    41, ...,   999, 15830,   168],\n",
       "        [   16,    21,  1666, ...,     0,     0,     0],\n",
       "        [   16,    75, 18344, ...,     0,     0,     0]], dtype=int64),\n",
       " array([[ 3068,  1947, 11038,    14,     0],\n",
       "        [ 3068,     2, 20206,    14,     0],\n",
       "        [ 3068,     2,   481,     3,  1120],\n",
       "        [ 3068,  1312,     2,  1614,   351],\n",
       "        [ 3068,  5932,    14,     0,     0],\n",
       "        [ 3068,    20,     2,   369, 11450],\n",
       "        [ 3068,  6974,   389,    14,     0],\n",
       "        [ 3068,  5687,   965,    14,     0],\n",
       "        [ 3068,  7756,  1669,    14,     0],\n",
       "        [ 3068,   312,  2126,    14,     0],\n",
       "        [ 3068,   913,   656,    14,     0],\n",
       "        [ 3068,  3047,  1946,  3962,  2436],\n",
       "        [ 3068,  6005,    32,  1617,    14],\n",
       "        [ 3068,  1736,  2122,    14,     0],\n",
       "        [ 3068, 10934,    14,     0,     0],\n",
       "        [ 3068,  3807,    14,     0,     0],\n",
       "        [ 3068,  1342,   601,    14,     0],\n",
       "        [ 3068,  2265,     3,     2,   666],\n",
       "        [ 3068,   225,    14,     0,     0],\n",
       "        [ 3068,   370,    14,     0,     0],\n",
       "        [ 3068,     7, 10324,  1959,    14],\n",
       "        [ 3068,  2378,  9558,  4785,  1433],\n",
       "        [ 3068,  4866,    14,     0,     0],\n",
       "        [ 3068, 10938, 11184,    14,     0],\n",
       "        [ 3068,  1624,  1458,   384,    14],\n",
       "        [ 3068,     2,   217,   249,  6007],\n",
       "        [ 3068,  3800,    14,     0,     0],\n",
       "        [ 3068,   279,    28,     2,  2139],\n",
       "        [ 3068,   851,  3356,    14,     0],\n",
       "        [ 3068,  3722,    14,     0,     0],\n",
       "        [ 3068,   166,   395,  1744,    14],\n",
       "        [ 3068,   484,   212,    14,     0]], dtype=int64))"
      ]
     },
     "execution_count": 31,
     "metadata": {},
     "output_type": "execute_result"
    }
   ],
   "source": [
    "train_gen = train.as_numpy_iterator()\n",
    "train_gen.next()"
   ]
  },
  {
   "cell_type": "code",
   "execution_count": null,
   "metadata": {},
   "outputs": [],
   "source": []
  }
 ],
 "metadata": {
  "kernelspec": {
   "display_name": "Python 3.10.4 64-bit",
   "language": "python",
   "name": "python3"
  },
  "language_info": {
   "codemirror_mode": {
    "name": "ipython",
    "version": 3
   },
   "file_extension": ".py",
   "mimetype": "text/x-python",
   "name": "python",
   "nbconvert_exporter": "python",
   "pygments_lexer": "ipython3",
   "version": "3.10.4"
  },
  "orig_nbformat": 4,
  "vscode": {
   "interpreter": {
    "hash": "26de051ba29f2982a8de78e945f0abaf191376122a1563185a90213a26c5da77"
   }
  }
 },
 "nbformat": 4,
 "nbformat_minor": 2
}
