{
  "cells": [
    {
      "cell_type": "code",
      "execution_count": 1,
      "metadata": {
        "colab": {
          "base_uri": "https://localhost:8080/"
        },
        "id": "86t1ne2qrnrY",
        "outputId": "724edd15-8076-4e8d-db4c-edace5ba5834"
      },
      "outputs": [
        {
          "name": "stdout",
          "output_type": "stream",
          "text": [
            "--2022-08-30 21:47:15--  https://rajpurkar.github.io/SQuAD-explorer/dataset/dev-v2.0.json\n",
            "Resolving rajpurkar.github.io (rajpurkar.github.io)... 185.199.110.153, 185.199.109.153, 185.199.108.153, ...\n",
            "Connecting to rajpurkar.github.io (rajpurkar.github.io)|185.199.110.153|:443... connected.\n",
            "HTTP request sent, awaiting response... 200 OK\n",
            "Length: 4370528 (4.2M) [application/json]\n",
            "Saving to: ‘dev-v2.0.json’\n",
            "\n",
            "dev-v2.0.json       100%[===================>]   4.17M  --.-KB/s    in 0.01s   \n",
            "\n",
            "2022-08-30 21:47:16 (283 MB/s) - ‘dev-v2.0.json’ saved [4370528/4370528]\n",
            "\n",
            "--2022-08-30 21:47:16--  https://rajpurkar.github.io/SQuAD-explorer/dataset/train-v2.0.json\n",
            "Resolving rajpurkar.github.io (rajpurkar.github.io)... 185.199.110.153, 185.199.109.153, 185.199.108.153, ...\n",
            "Connecting to rajpurkar.github.io (rajpurkar.github.io)|185.199.110.153|:443... connected.\n",
            "HTTP request sent, awaiting response... 200 OK\n",
            "Length: 42123633 (40M) [application/json]\n",
            "Saving to: ‘train-v2.0.json’\n",
            "\n",
            "train-v2.0.json     100%[===================>]  40.17M  --.-KB/s    in 0.09s   \n",
            "\n",
            "2022-08-30 21:47:19 (429 MB/s) - ‘train-v2.0.json’ saved [42123633/42123633]\n",
            "\n"
          ]
        }
      ],
      "source": [
        "# !wget https://rajpurkar.github.io/SQuAD-explorer/dataset/dev-v2.0.json\n",
        "# !wget https://rajpurkar.github.io/SQuAD-explorer/dataset/train-v2.0.json"
      ]
    },
    {
      "cell_type": "code",
      "execution_count": 2,
      "metadata": {
        "colab": {
          "base_uri": "https://localhost:8080/"
        },
        "id": "Zh3Adwizrpre",
        "outputId": "de6507fc-a91d-486b-d5e8-a7a1b43b0a5b"
      },
      "outputs": [
        {
          "name": "stdout",
          "output_type": "stream",
          "text": [
            "Looking in indexes: https://pypi.org/simple, https://us-python.pkg.dev/colab-wheels/public/simple/\n",
            "Collecting tokenizers\n",
            "  Downloading tokenizers-0.12.1-cp37-cp37m-manylinux_2_12_x86_64.manylinux2010_x86_64.whl (6.6 MB)\n",
            "\u001b[K     |████████████████████████████████| 6.6 MB 17.7 MB/s \n",
            "\u001b[?25hInstalling collected packages: tokenizers\n",
            "Successfully installed tokenizers-0.12.1\n"
          ]
        }
      ],
      "source": [
        "# !pip install tokenizers"
      ]
    },
    {
      "cell_type": "code",
      "execution_count": 1,
      "metadata": {
        "id": "MmxQQ_Dhrtpm"
      },
      "outputs": [],
      "source": [
        "import pandas as pd \n",
        "import json\n",
        "import numpy as np\n",
        "import tensorflow as tf\n",
        "import tensorflow_hub as hub\n",
        "from tensorflow import keras\n",
        "from tensorflow.keras import layers\n",
        "\n",
        "from tokenizers import BertWordPieceTokenizer"
      ]
    },
    {
      "cell_type": "code",
      "execution_count": 2,
      "metadata": {
        "id": "EayL-DyIrvvW"
      },
      "outputs": [],
      "source": [
        "MAX_SEQ_LENGTH = 384"
      ]
    },
    {
      "cell_type": "markdown",
      "metadata": {
        "id": "DMtTCjPXrpXv"
      },
      "source": [
        "# explore the data "
      ]
    },
    {
      "cell_type": "code",
      "execution_count": 5,
      "metadata": {
        "id": "i47oGmaVr0QG"
      },
      "outputs": [],
      "source": [
        "with open('dev-v2.0.json') as f:\n",
        "     raw_dev_data = json.load(f)\n",
        "     raw_dev_data[\"data\"][0]['paragraphs'][0]['context']"
      ]
    },
    {
      "cell_type": "code",
      "execution_count": 6,
      "metadata": {
        "id": "vDhwLES_r_Xu"
      },
      "outputs": [],
      "source": [
        "# # data structure \n",
        "# data : list\n",
        "#     [0]\n",
        "#     'title': str\n",
        "#     'paragraphs' : list\n",
        "#                 [0]\n",
        "#                 'qas': list\n",
        "#                     [0]\n",
        "#                     'question' : str\n",
        "#                     'id' : str\n",
        "#                     'answers': list  # is answers is empty list there will be plausible_answers same as answers\n",
        "#                             'text' : str\n",
        "#                             'answer_start' : int\n",
        "#                     'is_impossible' :bool\n",
        "#                 'context' : str"
      ]
    },
    {
      "cell_type": "markdown",
      "metadata": {
        "id": "FA3kIDNUsCK-"
      },
      "source": [
        "# prepare data for the model train"
      ]
    },
    {
      "cell_type": "code",
      "execution_count": 3,
      "metadata": {
        "id": "lYnaNubtsACW"
      },
      "outputs": [],
      "source": [
        "def get_text(row):\n",
        "    if row['answers']:\n",
        "        start =  row['answers'][0]['answer_start']\n",
        "        answer = row['answers'][0]['text']\n",
        "        \n",
        "        return {'text':answer, 'start':start }\n",
        "\n",
        "def read_squad_json(file):\n",
        "    # read json file\n",
        "    file = json.loads(open(file).read())\n",
        "    #get context column and questions column\n",
        "    context_questions = pd.json_normalize(file,['data','paragraphs'])\n",
        "    #repeat context column for each question\n",
        "    idx = np.repeat(context_questions['context'].values, context_questions.qas.str.len())\n",
        "    #separate question and answer columns\n",
        "    dataframe = pd.json_normalize(file,record_path=['data','paragraphs','qas'])\n",
        "    #add context to each question\n",
        "    dataframe['context'] = idx\n",
        "\n",
        "    dataframe = pd.concat([dataframe,dataframe.apply(get_text,result_type='expand',axis = 1)],axis=1)\n",
        "    dataframe['start'].fillna(-1,inplace = True)\n",
        "    dataframe['start'] = dataframe['start'].astype('int32')\n",
        "    return dataframe\n",
        "\n",
        "\n",
        "def tokenizer_output(tokenized_context, tokenized_question, seq_maxlen):\n",
        "  '''\n",
        "  prepare input arrays for bert \n",
        "\n",
        "  '''\n",
        "  input_ids = tokenized_context.ids + tokenized_question.ids[1:] # ignore [CLS] to the start of the question\n",
        "  input_type_ids = [0] * len(tokenized_context.ids) + [1] * len(\n",
        "                            tokenized_question.ids[1:]  )\n",
        "  input_mask = [1] * len(input_ids)\n",
        "  # add padding if sentence less than seq_max length \n",
        "  padding_length = seq_maxlen - len(input_ids)\n",
        "  if padding_length >= 0:\n",
        "\n",
        "    input_ids      = input_ids      + ([0] * padding_length)\n",
        "    input_mask     = input_mask     + ([0] * padding_length)\n",
        "    input_type_ids = input_type_ids + ([0] * padding_length)\n",
        "\n",
        "    return {'input_word_ids' : input_ids, 'input_mask':input_mask, 'input_type_ids':input_type_ids}\n",
        "\n",
        "  \n",
        "def get_start_end_tokens(context, context_tokens, answer_text, start_index):\n",
        "  \"\"\"\n",
        "  Given a context and an answer, return the start and end token indices.\n",
        "  \"\"\"\n",
        "  #check if question has answer\n",
        "  if start_index != -1 : \n",
        "    #end char index\n",
        "    end_index = len(answer_text) + start_index\n",
        "    #build mask for cntext characters\n",
        "    context_mask = [0] * len(context)\n",
        "    \n",
        "    # labeld answer characters with one\n",
        "    for idx in range(start_index, end_index):\n",
        "        context_mask[idx] = 1\n",
        "\n",
        "    answer_token_ids = []\n",
        "\n",
        "    # append index of answer tokens\n",
        "    for idx, (start, end) in enumerate(context_tokens.offsets): # offset is index of start and end char for that token\n",
        "        if sum(context_mask[start:end]) > 0:\n",
        "            answer_token_ids.append(idx)\n",
        "    \n",
        "    return { 'start_token_idx' : answer_token_ids[0], 'end_token_idx': answer_token_ids[-1]} # start token index,  end token index\n",
        "\n",
        "  # else : return { 'start_token_idx' : MAX_SEQ_LENGTH+1, 'end_token_idx': MAX_SEQ_LENGTH+1 }\n",
        "\n",
        "def input_output_dataframe(row):\n",
        "  '''\n",
        "  this function will use in train only to get bert layert input and true out put \n",
        "  input :\n",
        "    dataframe : dataframe row contain context,question, answer text , and answer start char \n",
        "  output :\n",
        "     pandas dataframe with columns : [ input_word_ids , input_mask , input_type_ids , start_token_idx ,end_token_idx]\n",
        "\n",
        "  '''\n",
        "  # toknize the context\n",
        "  tokenized_context = tokenizer.encode( row['context'])\n",
        "  # tokenize the question\n",
        "  tokenized_question = tokenizer.encode(row['question']) \n",
        "  seq_maxlen = MAX_SEQ_LENGTH\n",
        "  if row['start'] != -1 :\n",
        "    output =  tokenizer_output(tokenized_context, tokenized_question, seq_maxlen) \n",
        "    if output :\n",
        "      output.update(get_start_end_tokens(row['context'], tokenized_context, row['text'], row['start']))\n",
        "      return output\n",
        "    else :\n",
        "      return None\n",
        "  else : return None  "
      ]
    },
    {
      "cell_type": "code",
      "execution_count": 4,
      "metadata": {
        "id": "LgTvFjrWstf_"
      },
      "outputs": [],
      "source": [
        "#bert layer\n",
        "bert_layer = hub.KerasLayer(\"bert_en_uncased_L-12_H-768_A-12_2\", trainable=True)\n",
        "\n",
        "# build tokenizer\n",
        "vocab_file = bert_layer.resolved_object.vocab_file.asset_path.numpy().decode(\"utf-8\")\n",
        "do_lower_case = bert_layer.resolved_object.do_lower_case.numpy()\n",
        "tokenizer = BertWordPieceTokenizer(vocab=vocab_file, lowercase=True)\n"
      ]
    },
    {
      "cell_type": "code",
      "execution_count": 5,
      "metadata": {
        "id": "nHN66MxCsc8v"
      },
      "outputs": [],
      "source": [
        "train_data = read_squad_json(\"train-v2.0.json\")[['context','question','text','start']]\n",
        "train_data = train_data.apply(input_output_dataframe,result_type='expand',axis=1)\n",
        "train_data.dropna(inplace = True)\n",
        "train_data[['start_token_idx'\t,'end_token_idx']] = train_data[['start_token_idx'\t,'end_token_idx']].astype('int32')"
      ]
    },
    {
      "cell_type": "code",
      "execution_count": 6,
      "metadata": {},
      "outputs": [
        {
          "name": "stdout",
          "output_type": "stream",
          "text": [
            "(85935, 5)\n"
          ]
        },
        {
          "data": {
            "text/html": [
              "<div>\n",
              "<style scoped>\n",
              "    .dataframe tbody tr th:only-of-type {\n",
              "        vertical-align: middle;\n",
              "    }\n",
              "\n",
              "    .dataframe tbody tr th {\n",
              "        vertical-align: top;\n",
              "    }\n",
              "\n",
              "    .dataframe thead th {\n",
              "        text-align: right;\n",
              "    }\n",
              "</style>\n",
              "<table border=\"1\" class=\"dataframe\">\n",
              "  <thead>\n",
              "    <tr style=\"text-align: right;\">\n",
              "      <th></th>\n",
              "      <th>input_word_ids</th>\n",
              "      <th>input_mask</th>\n",
              "      <th>input_type_ids</th>\n",
              "      <th>start_token_idx</th>\n",
              "      <th>end_token_idx</th>\n",
              "    </tr>\n",
              "  </thead>\n",
              "  <tbody>\n",
              "    <tr>\n",
              "      <th>0</th>\n",
              "      <td>[101, 20773, 21025, 19358, 22815, 1011, 5708, ...</td>\n",
              "      <td>[1, 1, 1, 1, 1, 1, 1, 1, 1, 1, 1, 1, 1, 1, 1, ...</td>\n",
              "      <td>[0, 0, 0, 0, 0, 0, 0, 0, 0, 0, 0, 0, 0, 0, 0, ...</td>\n",
              "      <td>67</td>\n",
              "      <td>70</td>\n",
              "    </tr>\n",
              "    <tr>\n",
              "      <th>1</th>\n",
              "      <td>[101, 20773, 21025, 19358, 22815, 1011, 5708, ...</td>\n",
              "      <td>[1, 1, 1, 1, 1, 1, 1, 1, 1, 1, 1, 1, 1, 1, 1, ...</td>\n",
              "      <td>[0, 0, 0, 0, 0, 0, 0, 0, 0, 0, 0, 0, 0, 0, 0, ...</td>\n",
              "      <td>55</td>\n",
              "      <td>57</td>\n",
              "    </tr>\n",
              "  </tbody>\n",
              "</table>\n",
              "</div>"
            ],
            "text/plain": [
              "                                      input_word_ids  \\\n",
              "0  [101, 20773, 21025, 19358, 22815, 1011, 5708, ...   \n",
              "1  [101, 20773, 21025, 19358, 22815, 1011, 5708, ...   \n",
              "\n",
              "                                          input_mask  \\\n",
              "0  [1, 1, 1, 1, 1, 1, 1, 1, 1, 1, 1, 1, 1, 1, 1, ...   \n",
              "1  [1, 1, 1, 1, 1, 1, 1, 1, 1, 1, 1, 1, 1, 1, 1, ...   \n",
              "\n",
              "                                      input_type_ids  start_token_idx  \\\n",
              "0  [0, 0, 0, 0, 0, 0, 0, 0, 0, 0, 0, 0, 0, 0, 0, ...               67   \n",
              "1  [0, 0, 0, 0, 0, 0, 0, 0, 0, 0, 0, 0, 0, 0, 0, ...               55   \n",
              "\n",
              "   end_token_idx  \n",
              "0             70  \n",
              "1             57  "
            ]
          },
          "execution_count": 6,
          "metadata": {},
          "output_type": "execute_result"
        }
      ],
      "source": [
        "print(train_data.shape)\n",
        "train_data.head(2)"
      ]
    },
    {
      "cell_type": "code",
      "execution_count": 9,
      "metadata": {
        "id": "W2UAHTdusKz3"
      },
      "outputs": [],
      "source": [
        "# val_data = read_squad_json(\"dev-v2.0.json\")[['context','question','text','start']]\n",
        "# val_data = val_data.apply(input_output_dataframe,result_type='expand',axis=1)\n",
        "# val_data.dropna(inplace = True)\n",
        "# val_data[['start_token_idx'\t,'end_token_idx']] = val_data[['start_token_idx'\t,'end_token_idx']].astype('int32')"
      ]
    },
    {
      "cell_type": "markdown",
      "metadata": {
        "id": "aTfoqIVLs_it"
      },
      "source": [
        "# model architecture"
      ]
    },
    {
      "cell_type": "code",
      "execution_count": 7,
      "metadata": {
        "colab": {
          "base_uri": "https://localhost:8080/"
        },
        "id": "OL2sFCMktAm-",
        "outputId": "17030767-f5e4-4b8c-b0d4-8ff075d66ef7"
      },
      "outputs": [
        {
          "name": "stdout",
          "output_type": "stream",
          "text": [
            "Model: \"model\"\n",
            "__________________________________________________________________________________________________\n",
            " Layer (type)                   Output Shape         Param #     Connected to                     \n",
            "==================================================================================================\n",
            " input_word_ids (InputLayer)    [(None, 384)]        0           []                               \n",
            "                                                                                                  \n",
            " input_mask (InputLayer)        [(None, 384)]        0           []                               \n",
            "                                                                                                  \n",
            " input_type_ids (InputLayer)    [(None, 384)]        0           []                               \n",
            "                                                                                                  \n",
            " keras_layer (KerasLayer)       [(None, 768),        109482241   ['input_word_ids[0][0]',         \n",
            "                                 (None, 384, 768)]                'input_mask[0][0]',             \n",
            "                                                                  'input_type_ids[0][0]']         \n",
            "                                                                                                  \n",
            " start_logit (Dense)            (None, 384, 1)       768         ['keras_layer[0][1]']            \n",
            "                                                                                                  \n",
            " end_logit (Dense)              (None, 384, 1)       768         ['keras_layer[0][1]']            \n",
            "                                                                                                  \n",
            " flatten (Flatten)              (None, 384)          0           ['start_logit[0][0]']            \n",
            "                                                                                                  \n",
            " flatten_1 (Flatten)            (None, 384)          0           ['end_logit[0][0]']              \n",
            "                                                                                                  \n",
            " activation (Activation)        (None, 384)          0           ['flatten[0][0]']                \n",
            "                                                                                                  \n",
            " activation_1 (Activation)      (None, 384)          0           ['flatten_1[0][0]']              \n",
            "                                                                                                  \n",
            "==================================================================================================\n",
            "Total params: 109,483,777\n",
            "Trainable params: 109,483,776\n",
            "Non-trainable params: 1\n",
            "__________________________________________________________________________________________________\n"
          ]
        },
        {
          "name": "stderr",
          "output_type": "stream",
          "text": [
            "C:\\Users\\ahmed\\AppData\\Roaming\\Python\\Python310\\site-packages\\keras\\optimizer_v2\\adam.py:105: UserWarning: The `lr` argument is deprecated, use `learning_rate` instead.\n",
            "  super(Adam, self).__init__(name, **kwargs)\n"
          ]
        }
      ],
      "source": [
        "input_word_ids = tf.keras.layers.Input(shape=(MAX_SEQ_LENGTH,), dtype=tf.int32, name='input_word_ids')\n",
        "input_mask = tf.keras.layers.Input(shape=(MAX_SEQ_LENGTH,), dtype=tf.int32, name='input_mask')\n",
        "input_type_ids = tf.keras.layers.Input(shape=(MAX_SEQ_LENGTH,), dtype=tf.int32, name='input_type_ids')\n",
        "# bert_layer = hub.KerasLayer(\"https://tfhub.dev/tensorflow/bert_en_uncased_L-12_H-768_A-12/2\", trainable=True)\n",
        "pooled_output, sequence_output = bert_layer([input_word_ids, input_mask, input_type_ids])\n",
        "\n",
        "\n",
        "start_logits = layers.Dense(1, name=\"start_logit\", use_bias=False)(sequence_output)\n",
        "start_logits = layers.Flatten()(start_logits)\n",
        "\n",
        "end_logits = layers.Dense(1, name=\"end_logit\", use_bias=False)(sequence_output)\n",
        "end_logits = layers.Flatten()(end_logits)\n",
        "\n",
        "start_probs = layers.Activation(keras.activations.softmax)(start_logits)\n",
        "end_probs = layers.Activation(keras.activations.softmax)(end_logits)\n",
        "\n",
        "model = keras.Model(inputs=[input_word_ids, input_mask, input_type_ids], outputs=[start_probs, end_probs])\n",
        "loss = keras.losses.SparseCategoricalCrossentropy(from_logits=False)\n",
        "optimizer = keras.optimizers.Adam(lr=1e-5, beta_1=0.9, beta_2=0.98, epsilon=1e-9)\n",
        "model.compile(optimizer=optimizer, loss=[loss, loss])\n",
        "model.summary()\n"
      ]
    },
    {
      "cell_type": "markdown",
      "metadata": {
        "id": "L-Ck57BPtLbO"
      },
      "source": [
        "# train the model"
      ]
    },
    {
      "cell_type": "code",
      "execution_count": 8,
      "metadata": {
        "colab": {
          "base_uri": "https://localhost:8080/"
        },
        "id": "81x86W_2tFy-",
        "outputId": "e4ba5ca5-58a8-4480-8e1e-e3d5b0de1ef5"
      },
      "outputs": [
        {
          "name": "stdout",
          "output_type": "stream",
          "text": [
            "Epoch 1/2\n",
            "10742/10742 [==============================] - 4816s 447ms/step - loss: 2.6825 - activation_loss: 1.3967 - activation_1_loss: 1.2858\n",
            "Epoch 2/2\n",
            "10742/10742 [==============================] - 4682s 436ms/step - loss: 1.7116 - activation_loss: 0.9069 - activation_1_loss: 0.8047\n"
          ]
        },
        {
          "data": {
            "text/plain": [
              "<keras.callbacks.History at 0x21fb8f6ef80>"
            ]
          },
          "execution_count": 8,
          "metadata": {},
          "output_type": "execute_result"
        }
      ],
      "source": [
        "model.fit([np.stack(train_data['input_word_ids'].values),np.stack(train_data['input_mask'].values),np.stack(train_data['input_type_ids'].values)],\n",
        "  [np.stack(train_data['start_token_idx'].values),np.stack(train_data['end_token_idx'].values)]\n",
        "  , epochs=2, batch_size=8,)"
      ]
    },
    {
      "cell_type": "markdown",
      "metadata": {
        "id": "tjHQSi9Ktghf"
      },
      "source": [
        "# predict"
      ]
    },
    {
      "cell_type": "code",
      "execution_count": 9,
      "metadata": {
        "colab": {
          "base_uri": "https://localhost:8080/"
        },
        "id": "bFVNVl_9tRH_",
        "outputId": "c1868a8c-9512-4b6e-ba91-3fa2af28ab40"
      },
      "outputs": [
        {
          "name": "stderr",
          "output_type": "stream",
          "text": [
            "WARNING:absl:Found untraced functions such as restored_function_body, restored_function_body, restored_function_body, restored_function_body, restored_function_body while saving (showing 5 of 378). These functions will not be directly callable after loading.\n"
          ]
        },
        {
          "name": "stdout",
          "output_type": "stream",
          "text": [
            "INFO:tensorflow:Assets written to: bert_model\\assets\n"
          ]
        },
        {
          "name": "stderr",
          "output_type": "stream",
          "text": [
            "INFO:tensorflow:Assets written to: bert_model\\assets\n"
          ]
        }
      ],
      "source": [
        "model.save('bert_model')\n",
        "mm= tf.keras.models.load_model('bert_model')"
      ]
    },
    {
      "cell_type": "code",
      "execution_count": 17,
      "metadata": {
        "id": "c3IRPpZwtj8f"
      },
      "outputs": [],
      "source": [
        "question = 'what is tensorflow?'\n",
        "context = ''' TensorFlow is a free and open-source software library for machine learning and artificial intelligence.\n",
        " It can be used across a range of tasks but has a particular focus on training and inference of deep neural networks.[4][5]\n",
        "TensorFlow was developed by the Google Brain team for internal Google use in research and production.[6][7][8] \n",
        "The initial version was released under the Apache License 2.0 in 2015.[1][9] Google released the updated version of TensorFlow,\n",
        " named TensorFlow 2.0, in September 2019.[10]\n",
        "TensorFlow can be used in a wide variety of programming languages, most notably Python, \n",
        "as well as Javascript, C++, and Java.[11] This flexibility lends itself to a range of applications in many different sectors. '''\n",
        "\n",
        "\n"
      ]
    },
    {
      "cell_type": "code",
      "execution_count": 18,
      "metadata": {
        "id": "eR6iEKlmtnPH"
      },
      "outputs": [],
      "source": [
        "def predict_answer(context,question):\n",
        "  # toknize the context\n",
        "  tokenized_context = tokenizer.encode(context)\n",
        "  # tokenize the question\n",
        "  tokenized_question = tokenizer.encode(question) \n",
        "  inp_dict  = tokenizer_output(tokenized_context, tokenized_question, MAX_SEQ_LENGTH)\n",
        "\n",
        "  pred_start, pred_end = model.predict([np.array([inp_dict['input_word_ids']]),np.array([inp_dict['input_mask']]),np.array([inp_dict['input_type_ids']])])\n",
        "  \n",
        "  return tokenizer.decode(np.array(inp_dict['input_word_ids'])[pred_start.argmax():pred_end.argmax()+1])\n"
      ]
    },
    {
      "cell_type": "code",
      "execution_count": 19,
      "metadata": {
        "colab": {
          "base_uri": "https://localhost:8080/",
          "height": 36
        },
        "id": "ccKvfNiCy6ai",
        "outputId": "93e0c811-5bdb-4680-dfa9-0295475caddb"
      },
      "outputs": [
        {
          "data": {
            "text/plain": [
              "'a free and open - source software library for machine learning and artificial intelligence'"
            ]
          },
          "execution_count": 19,
          "metadata": {},
          "output_type": "execute_result"
        }
      ],
      "source": [
        "predict_answer(context,question)"
      ]
    },
    {
      "cell_type": "code",
      "execution_count": null,
      "metadata": {},
      "outputs": [],
      "source": []
    }
  ],
  "metadata": {
    "accelerator": "GPU",
    "colab": {
      "collapsed_sections": [],
      "name": "Untitled21.ipynb",
      "provenance": []
    },
    "gpuClass": "standard",
    "kernelspec": {
      "display_name": "Python 3.10.4 64-bit",
      "language": "python",
      "name": "python3"
    },
    "language_info": {
      "codemirror_mode": {
        "name": "ipython",
        "version": 3
      },
      "file_extension": ".py",
      "mimetype": "text/x-python",
      "name": "python",
      "nbconvert_exporter": "python",
      "pygments_lexer": "ipython3",
      "version": "3.10.4"
    },
    "vscode": {
      "interpreter": {
        "hash": "26de051ba29f2982a8de78e945f0abaf191376122a1563185a90213a26c5da77"
      }
    }
  },
  "nbformat": 4,
  "nbformat_minor": 0
}
